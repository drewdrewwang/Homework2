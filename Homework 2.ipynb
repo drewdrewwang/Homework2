{
 "cells": [
  {
   "cell_type": "code",
   "execution_count": 44,
   "id": "020c470a",
   "metadata": {},
   "outputs": [
    {
     "name": "stdout",
     "output_type": "stream",
     "text": [
      "0\n",
      "1\n",
      "2\n",
      "3\n",
      "4\n"
     ]
    }
   ],
   "source": [
    "n = 0\n",
    "while n < 10:\n",
    "    if n == 5:\n",
    "        break\n",
    "    print (n) \n",
    "    n += 1\n",
    "    \n",
    "    "
   ]
  },
  {
   "cell_type": "code",
   "execution_count": 45,
   "id": "2d1c50d3",
   "metadata": {},
   "outputs": [
    {
     "name": "stdout",
     "output_type": "stream",
     "text": [
      "0\n",
      "1\n",
      "2\n",
      "3\n",
      "4\n",
      "5 is not less than 5\n"
     ]
    }
   ],
   "source": [
    "n = 0\n",
    "while n < 10:\n",
    "    if n == 5:\n",
    "        print('5 is not less than 5')\n",
    "        break\n",
    "    print(n)\n",
    "    n += 1\n",
    "\n",
    "    "
   ]
  },
  {
   "cell_type": "code",
   "execution_count": 46,
   "id": "dda4848f",
   "metadata": {},
   "outputs": [
    {
     "name": "stdout",
     "output_type": "stream",
     "text": [
      "I like banana\n",
      "I like orange\n",
      "apple is really a fruit?\n"
     ]
    }
   ],
   "source": [
    "favfruit = [\"banana\", \"orange\", \"apple\"]\n",
    "for n in favfruit:\n",
    "    if n == \"apple\":\n",
    "        print(\"apple is really a fruit?\")\n",
    "        break\n",
    "    print(\"I like\" + ' '+ (n))"
   ]
  },
  {
   "cell_type": "code",
   "execution_count": 49,
   "id": "e7b65475",
   "metadata": {},
   "outputs": [
    {
     "name": "stdout",
     "output_type": "stream",
     "text": [
      "465\n"
     ]
    }
   ],
   "source": [
    "n = [*range(1,31,1)]\n",
    "n = sum(n)\n",
    "\n",
    "while n == 465:\n",
    "    print(n)\n",
    "    break\n",
    "   "
   ]
  },
  {
   "cell_type": "code",
   "execution_count": 84,
   "id": "3b7dfe62",
   "metadata": {},
   "outputs": [
    {
     "name": "stdout",
     "output_type": "stream",
     "text": [
      "B\n"
     ]
    }
   ],
   "source": [
    "grade = 80\n",
    "if grade >= 90:\n",
    "    print(\"A\")\n",
    "if grade in range(80,90):\n",
    "    print(\"B\")\n",
    "if grade in range(70,80):\n",
    "    print(\"C\")\n",
    "if grade in range(60,70):\n",
    "    print(\"D\")\n",
    "if grade < 60:\n",
    "    print(\"F\")\n"
   ]
  },
  {
   "cell_type": "code",
   "execution_count": 55,
   "id": "15bee8c7",
   "metadata": {},
   "outputs": [
    {
     "name": "stdout",
     "output_type": "stream",
     "text": [
      "Andy 88\n",
      "Amy 66\n",
      "James 90\n",
      "Jules 55\n",
      "Arthur 77\n"
     ]
    }
   ],
   "source": [
    "marks = {'Andy':88, 'Amy':66, 'James':90,'Jules':55, 'Arthur':77}\n",
    "for n, m in marks.items():\n",
    "    print(n, m)\n",
    "    "
   ]
  },
  {
   "cell_type": "code",
   "execution_count": 67,
   "id": "ed27ca51",
   "metadata": {},
   "outputs": [
    {
     "name": "stdout",
     "output_type": "stream",
     "text": [
      "90\n",
      "55\n",
      "75.2\n"
     ]
    }
   ],
   "source": [
    "marks = {'Andy':88, 'Amy':66, 'James':90,'Jules':55, 'Arthur':77}\n",
    "print(max(marks.values()))\n",
    "print(min(marks.values()))\n",
    "print(sum(marks.values())/len(marks.values()))"
   ]
  },
  {
   "cell_type": "code",
   "execution_count": 73,
   "id": "eaa9eb4f",
   "metadata": {},
   "outputs": [
    {
     "name": "stdout",
     "output_type": "stream",
     "text": [
      "Andy\n",
      "Amy\n"
     ]
    }
   ],
   "source": [
    "marks = {'Andy':88, 'Amy':66, 'James':90,'Jules':55, 'Arthur':77}\n",
    "for n in marks:\n",
    "    if 'J'in n:\n",
    "        break\n",
    "    print(n)"
   ]
  },
  {
   "cell_type": "code",
   "execution_count": 72,
   "id": "cdced727",
   "metadata": {},
   "outputs": [
    {
     "name": "stdout",
     "output_type": "stream",
     "text": [
      "Andy\n",
      "Amy\n",
      "Arthur\n"
     ]
    }
   ],
   "source": [
    "marks = {'Andy':88, 'Amy':66, 'James':90,'Jules':55, 'Arthur':77}\n",
    "for n in marks:\n",
    "    if 'J'in n:\n",
    "        continue\n",
    "    print(n)"
   ]
  }
 ],
 "metadata": {
  "kernelspec": {
   "display_name": "Python 3 (ipykernel)",
   "language": "python",
   "name": "python3"
  },
  "language_info": {
   "codemirror_mode": {
    "name": "ipython",
    "version": 3
   },
   "file_extension": ".py",
   "mimetype": "text/x-python",
   "name": "python",
   "nbconvert_exporter": "python",
   "pygments_lexer": "ipython3",
   "version": "3.9.12"
  }
 },
 "nbformat": 4,
 "nbformat_minor": 5
}
